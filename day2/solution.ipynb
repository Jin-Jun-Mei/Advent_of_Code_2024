{
 "cells": [
  {
   "cell_type": "code",
   "execution_count": 133,
   "metadata": {},
   "outputs": [],
   "source": [
    "import numpy as np"
   ]
  },
  {
   "cell_type": "markdown",
   "metadata": {},
   "source": [
    "part 1"
   ]
  },
  {
   "cell_type": "code",
   "execution_count": 134,
   "metadata": {},
   "outputs": [],
   "source": [
    "def check_safety(diff):\n",
    "    if (np.all(diff>0) or np.all(diff<0)):\n",
    "        # check if the difference is between 1 and 3\n",
    "        if np.all(np.abs(diff)>=1) and np.all(np.abs(diff)<=3):\n",
    "            return True\n",
    "        else:\n",
    "            return False\n",
    "    else:\n",
    "        return False\n",
    "    "
   ]
  },
  {
   "cell_type": "code",
   "execution_count": 135,
   "metadata": {},
   "outputs": [],
   "source": [
    "file = 'input.txt'\n",
    "\n",
    "safe_report = 0 \n",
    "\n",
    "with open(file,'r') as f:\n",
    "    for line in f:\n",
    "        row = list(map(int,line.strip().split()))\n",
    "\n",
    "        # check the difference between two concecutive elements\n",
    "        diff = np.diff(row)\n",
    "        result = check_safety(diff)\n",
    "        if result == True:\n",
    "            safe_report += 1\n",
    "\n",
    "    \n"
   ]
  },
  {
   "cell_type": "code",
   "execution_count": 136,
   "metadata": {},
   "outputs": [
    {
     "data": {
      "text/plain": [
       "220"
      ]
     },
     "execution_count": 136,
     "metadata": {},
     "output_type": "execute_result"
    }
   ],
   "source": [
    "safe_report"
   ]
  },
  {
   "cell_type": "markdown",
   "metadata": {},
   "source": [
    "part 2"
   ]
  },
  {
   "cell_type": "code",
   "execution_count": 138,
   "metadata": {},
   "outputs": [],
   "source": [
    "def check_trend(diff):\n",
    "    \"\"\"Check if all differences are positive or all are negative.\"\"\"\n",
    "    return np.all(diff > 0) or np.all(diff < 0)\n",
    "\n",
    "def check_distance(diff):\n",
    "    \"\"\"Check if all differences are between 1 and 3.\"\"\"\n",
    "    abs_diff = np.abs(diff)\n",
    "    return np.all(abs_diff >= 1) and np.all(abs_diff <= 3)"
   ]
  },
  {
   "cell_type": "code",
   "execution_count": 139,
   "metadata": {},
   "outputs": [
    {
     "name": "stdout",
     "output_type": "stream",
     "text": [
      "Number of safe reports: 296\n"
     ]
    }
   ],
   "source": [
    "\n",
    "safe_report = 0 \n",
    "\n",
    "with open(file, 'r') as f:\n",
    "    for line in f:\n",
    "        row = list(map(int, line.strip().split()))\n",
    "        diff = np.diff(row)\n",
    "\n",
    "        # Check if the row is already safe\n",
    "        if check_trend(diff) and check_distance(diff):\n",
    "            safe_report += 1\n",
    "            continue\n",
    "\n",
    "        # Check by removing one level\n",
    "        for i in range(len(row)):\n",
    "            new_row = np.delete(row, i)\n",
    "            new_diff = np.diff(new_row)\n",
    "            if check_trend(new_diff) and check_distance(new_diff):\n",
    "                safe_report += 1\n",
    "                break  # Stop checking further as the report is safe\n",
    "\n",
    "print(\"Number of safe reports:\", safe_report)\n"
   ]
  }
 ],
 "metadata": {
  "kernelspec": {
   "display_name": "Python 3",
   "language": "python",
   "name": "python3"
  },
  "language_info": {
   "codemirror_mode": {
    "name": "ipython",
    "version": 3
   },
   "file_extension": ".py",
   "mimetype": "text/x-python",
   "name": "python",
   "nbconvert_exporter": "python",
   "pygments_lexer": "ipython3",
   "version": "3.9.6"
  }
 },
 "nbformat": 4,
 "nbformat_minor": 2
}
