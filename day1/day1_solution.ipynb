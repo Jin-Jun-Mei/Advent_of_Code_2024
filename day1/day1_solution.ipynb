{
 "cells": [
  {
   "cell_type": "markdown",
   "metadata": {},
   "source": [
    "read the file"
   ]
  },
  {
   "cell_type": "code",
   "execution_count": null,
   "metadata": {},
   "outputs": [],
   "source": [
    "# %pip install numpy\n",
    "import numpy as np"
   ]
  },
  {
   "cell_type": "code",
   "execution_count": 15,
   "metadata": {},
   "outputs": [],
   "source": [
    "file = 'input_day1.txt'\n",
    "\n",
    "data = np.loadtxt(file)\n",
    "# split the data into two columns\n",
    "list1, list2 = data[:,0], data[:,1]\n",
    "# print(list1)\n",
    "# print(list2)\n"
   ]
  },
  {
   "cell_type": "markdown",
   "metadata": {},
   "source": [
    "sort the list"
   ]
  },
  {
   "cell_type": "code",
   "execution_count": 16,
   "metadata": {},
   "outputs": [],
   "source": [
    "list1_sorted = np.sort(list1)\n",
    "list2_sorted = np.sort(list2)"
   ]
  },
  {
   "cell_type": "markdown",
   "metadata": {},
   "source": [
    "sum the differences (at corresponding position)"
   ]
  },
  {
   "cell_type": "code",
   "execution_count": 20,
   "metadata": {},
   "outputs": [
    {
     "name": "stdout",
     "output_type": "stream",
     "text": [
      "Total difference is 1834060\n"
     ]
    }
   ],
   "source": [
    "diff_sum = int(sum(abs(list1_sorted - list2_sorted)))\n",
    "\n",
    "print(f'Total difference is {diff_sum}')"
   ]
  },
  {
   "cell_type": "markdown",
   "metadata": {},
   "source": [
    "## Part 2"
   ]
  },
  {
   "cell_type": "code",
   "execution_count": null,
   "metadata": {},
   "outputs": [],
   "source": [
    "\n",
    "unique1, counts1 = np.unique(list1_sorted, return_counts=True)\n",
    "unique2, counts2 = np.unique(list2_sorted, return_counts=True)\n",
    "\n",
    "# Combine unique values and counts\n",
    "dict1 = dict(zip(unique1, counts1))\n",
    "dict2= dict(zip(unique2, counts2))\n",
    "\n",
    "# Find common elements\n",
    "overlap = set(unique1) & set(unique2)\n",
    "\n",
    "similarity_score = 0\n",
    "for key in unique1:\n",
    "    if key in unique2:\n",
    "        score = key * dict2[key] * dict1[key]\n",
    "        similarity_score += score\n",
    "similarity_score"
   ]
  },
  {
   "cell_type": "markdown",
   "metadata": {},
   "source": [
    "find how many times it appears in list2"
   ]
  }
 ],
 "metadata": {
  "kernelspec": {
   "display_name": "Python 3",
   "language": "python",
   "name": "python3"
  },
  "language_info": {
   "codemirror_mode": {
    "name": "ipython",
    "version": 3
   },
   "file_extension": ".py",
   "mimetype": "text/x-python",
   "name": "python",
   "nbconvert_exporter": "python",
   "pygments_lexer": "ipython3",
   "version": "3.9.6"
  }
 },
 "nbformat": 4,
 "nbformat_minor": 2
}
